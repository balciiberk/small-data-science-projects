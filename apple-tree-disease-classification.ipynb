{
 "cells": [
  {
   "cell_type": "code",
   "execution_count": 1,
   "id": "9bbad377",
   "metadata": {
    "_cell_guid": "b1076dfc-b9ad-4769-8c92-a6c4dae69d19",
    "_uuid": "8f2839f25d086af736a60e9eeb907d3b93b6e0e5",
    "execution": {
     "iopub.execute_input": "2021-08-14T17:17:26.700844Z",
     "iopub.status.busy": "2021-08-14T17:17:26.698617Z",
     "iopub.status.idle": "2021-08-14T17:17:26.706494Z",
     "shell.execute_reply": "2021-08-14T17:17:26.706032Z",
     "shell.execute_reply.started": "2021-08-14T17:07:39.712171Z"
    },
    "papermill": {
     "duration": 0.032227,
     "end_time": "2021-08-14T17:17:26.706615",
     "exception": false,
     "start_time": "2021-08-14T17:17:26.674388",
     "status": "completed"
    },
    "tags": []
   },
   "outputs": [
    {
     "data": {
      "text/plain": [
       "\"\\nimport os\\nfor dirname, _, filenames in os.walk('/kaggle/input'):\\n    for filename in filenames:\\n        print(os.path.join(dirname, filename))\\n\""
      ]
     },
     "execution_count": 1,
     "metadata": {},
     "output_type": "execute_result"
    }
   ],
   "source": [
    "# This Python 3 environment comes with many helpful analytics libraries installed\n",
    "# It is defined by the kaggle/python Docker image: https://github.com/kaggle/docker-python\n",
    "# For example, here's several helpful packages to load\n",
    "\n",
    "import numpy as np # linear algebra\n",
    "import pandas as pd # data processing, CSV file I/O (e.g. pd.read_csv)\n",
    "\n",
    "# Input data files are available in the read-only \"../input/\" directory\n",
    "# For example, running this (by clicking run or pressing Shift+Enter) will list all files under the input directory\n",
    "'''\n",
    "import os\n",
    "for dirname, _, filenames in os.walk('/kaggle/input'):\n",
    "    for filename in filenames:\n",
    "        print(os.path.join(dirname, filename))\n",
    "'''\n",
    "\n",
    "# You can write up to 20GB to the current directory (/kaggle/working/) that gets preserved as output when you create a version using \"Save & Run All\" \n",
    "# You can also write temporary files to /kaggle/temp/, but they won't be saved outside of the current session"
   ]
  },
  {
   "cell_type": "code",
   "execution_count": 2,
   "id": "26a67ed6",
   "metadata": {
    "execution": {
     "iopub.execute_input": "2021-08-14T17:17:26.736595Z",
     "iopub.status.busy": "2021-08-14T17:17:26.735944Z",
     "iopub.status.idle": "2021-08-14T17:17:26.846328Z",
     "shell.execute_reply": "2021-08-14T17:17:26.845501Z",
     "shell.execute_reply.started": "2021-08-14T17:07:41.914885Z"
    },
    "papermill": {
     "duration": 0.126626,
     "end_time": "2021-08-14T17:17:26.846470",
     "exception": false,
     "start_time": "2021-08-14T17:17:26.719844",
     "status": "completed"
    },
    "tags": []
   },
   "outputs": [
    {
     "data": {
      "text/html": [
       "<div>\n",
       "<style scoped>\n",
       "    .dataframe tbody tr th:only-of-type {\n",
       "        vertical-align: middle;\n",
       "    }\n",
       "\n",
       "    .dataframe tbody tr th {\n",
       "        vertical-align: top;\n",
       "    }\n",
       "\n",
       "    .dataframe thead th {\n",
       "        text-align: right;\n",
       "    }\n",
       "</style>\n",
       "<table border=\"1\" class=\"dataframe\">\n",
       "  <thead>\n",
       "    <tr style=\"text-align: right;\">\n",
       "      <th></th>\n",
       "      <th>image_id</th>\n",
       "      <th>healthy</th>\n",
       "      <th>multiple_diseases</th>\n",
       "      <th>rust</th>\n",
       "      <th>scab</th>\n",
       "    </tr>\n",
       "  </thead>\n",
       "  <tbody>\n",
       "    <tr>\n",
       "      <th>0</th>\n",
       "      <td>Train_0</td>\n",
       "      <td>0</td>\n",
       "      <td>0</td>\n",
       "      <td>0</td>\n",
       "      <td>1</td>\n",
       "    </tr>\n",
       "    <tr>\n",
       "      <th>1</th>\n",
       "      <td>Train_1</td>\n",
       "      <td>0</td>\n",
       "      <td>1</td>\n",
       "      <td>0</td>\n",
       "      <td>0</td>\n",
       "    </tr>\n",
       "    <tr>\n",
       "      <th>2</th>\n",
       "      <td>Train_2</td>\n",
       "      <td>1</td>\n",
       "      <td>0</td>\n",
       "      <td>0</td>\n",
       "      <td>0</td>\n",
       "    </tr>\n",
       "    <tr>\n",
       "      <th>3</th>\n",
       "      <td>Train_3</td>\n",
       "      <td>0</td>\n",
       "      <td>0</td>\n",
       "      <td>1</td>\n",
       "      <td>0</td>\n",
       "    </tr>\n",
       "    <tr>\n",
       "      <th>4</th>\n",
       "      <td>Train_4</td>\n",
       "      <td>1</td>\n",
       "      <td>0</td>\n",
       "      <td>0</td>\n",
       "      <td>0</td>\n",
       "    </tr>\n",
       "  </tbody>\n",
       "</table>\n",
       "</div>"
      ],
      "text/plain": [
       "  image_id  healthy  multiple_diseases  rust  scab\n",
       "0  Train_0        0                  0     0     1\n",
       "1  Train_1        0                  1     0     0\n",
       "2  Train_2        1                  0     0     0\n",
       "3  Train_3        0                  0     1     0\n",
       "4  Train_4        1                  0     0     0"
      ]
     },
     "execution_count": 2,
     "metadata": {},
     "output_type": "execute_result"
    }
   ],
   "source": [
    "y_train = pd.read_csv('/kaggle/input/plant-pathology-2020-fgvc7/train.csv')\n",
    "y_test = pd.read_csv('/kaggle/input/plant-pathology-2020-fgvc7/test.csv')\n",
    "y_train.head()"
   ]
  },
  {
   "cell_type": "code",
   "execution_count": 3,
   "id": "e9291025",
   "metadata": {
    "execution": {
     "iopub.execute_input": "2021-08-14T17:17:26.890025Z",
     "iopub.status.busy": "2021-08-14T17:17:26.889448Z",
     "iopub.status.idle": "2021-08-14T17:17:26.895482Z",
     "shell.execute_reply": "2021-08-14T17:17:26.894906Z",
     "shell.execute_reply.started": "2021-08-14T17:07:43.058163Z"
    },
    "papermill": {
     "duration": 0.035744,
     "end_time": "2021-08-14T17:17:26.895624",
     "exception": false,
     "start_time": "2021-08-14T17:17:26.859880",
     "status": "completed"
    },
    "tags": []
   },
   "outputs": [
    {
     "name": "stdout",
     "output_type": "stream",
     "text": [
      "<class 'pandas.core.frame.DataFrame'>\n",
      "RangeIndex: 1821 entries, 0 to 1820\n",
      "Data columns (total 5 columns):\n",
      " #   Column             Non-Null Count  Dtype \n",
      "---  ------             --------------  ----- \n",
      " 0   image_id           1821 non-null   object\n",
      " 1   healthy            1821 non-null   int64 \n",
      " 2   multiple_diseases  1821 non-null   int64 \n",
      " 3   rust               1821 non-null   int64 \n",
      " 4   scab               1821 non-null   int64 \n",
      "dtypes: int64(4), object(1)\n",
      "memory usage: 71.3+ KB\n"
     ]
    }
   ],
   "source": [
    "y_train.info()"
   ]
  },
  {
   "cell_type": "code",
   "execution_count": 4,
   "id": "58e7c64e",
   "metadata": {
    "execution": {
     "iopub.execute_input": "2021-08-14T17:17:26.927599Z",
     "iopub.status.busy": "2021-08-14T17:17:26.927114Z",
     "iopub.status.idle": "2021-08-14T17:17:26.932910Z",
     "shell.execute_reply": "2021-08-14T17:17:26.932437Z",
     "shell.execute_reply.started": "2021-08-14T17:07:43.721704Z"
    },
    "papermill": {
     "duration": 0.023109,
     "end_time": "2021-08-14T17:17:26.933013",
     "exception": false,
     "start_time": "2021-08-14T17:17:26.909904",
     "status": "completed"
    },
    "tags": []
   },
   "outputs": [
    {
     "data": {
      "text/plain": [
       "Index(['healthy', 'multiple_diseases', 'rust', 'scab'], dtype='object')"
      ]
     },
     "execution_count": 4,
     "metadata": {},
     "output_type": "execute_result"
    }
   ],
   "source": [
    "y_train.columns[1:]"
   ]
  },
  {
   "cell_type": "code",
   "execution_count": 5,
   "id": "17b7e3a6",
   "metadata": {
    "execution": {
     "iopub.execute_input": "2021-08-14T17:17:26.965678Z",
     "iopub.status.busy": "2021-08-14T17:17:26.965081Z",
     "iopub.status.idle": "2021-08-14T17:17:26.980935Z",
     "shell.execute_reply": "2021-08-14T17:17:26.980217Z",
     "shell.execute_reply.started": "2021-08-14T17:07:44.272259Z"
    },
    "papermill": {
     "duration": 0.034072,
     "end_time": "2021-08-14T17:17:26.981039",
     "exception": false,
     "start_time": "2021-08-14T17:17:26.946967",
     "status": "completed"
    },
    "tags": []
   },
   "outputs": [
    {
     "data": {
      "text/plain": [
       "0"
      ]
     },
     "execution_count": 5,
     "metadata": {},
     "output_type": "execute_result"
    }
   ],
   "source": [
    "sum(y_train.drop('image_id', axis=1).sum(axis=1) != 1)"
   ]
  },
  {
   "cell_type": "markdown",
   "id": "8bb35ac6",
   "metadata": {
    "papermill": {
     "duration": 0.013997,
     "end_time": "2021-08-14T17:17:27.009399",
     "exception": false,
     "start_time": "2021-08-14T17:17:26.995402",
     "status": "completed"
    },
    "tags": []
   },
   "source": [
    "On every row there is exactly one column that is 1 and all the other columns are 0."
   ]
  },
  {
   "cell_type": "code",
   "execution_count": 6,
   "id": "1dd2cd28",
   "metadata": {
    "execution": {
     "iopub.execute_input": "2021-08-14T17:17:27.046584Z",
     "iopub.status.busy": "2021-08-14T17:17:27.046036Z",
     "iopub.status.idle": "2021-08-14T17:17:27.049145Z",
     "shell.execute_reply": "2021-08-14T17:17:27.049540Z",
     "shell.execute_reply.started": "2021-08-14T17:07:45.616897Z"
    },
    "papermill": {
     "duration": 0.026146,
     "end_time": "2021-08-14T17:17:27.049653",
     "exception": false,
     "start_time": "2021-08-14T17:17:27.023507",
     "status": "completed"
    },
    "tags": []
   },
   "outputs": [
    {
     "data": {
      "text/html": [
       "<div>\n",
       "<style scoped>\n",
       "    .dataframe tbody tr th:only-of-type {\n",
       "        vertical-align: middle;\n",
       "    }\n",
       "\n",
       "    .dataframe tbody tr th {\n",
       "        vertical-align: top;\n",
       "    }\n",
       "\n",
       "    .dataframe thead th {\n",
       "        text-align: right;\n",
       "    }\n",
       "</style>\n",
       "<table border=\"1\" class=\"dataframe\">\n",
       "  <thead>\n",
       "    <tr style=\"text-align: right;\">\n",
       "      <th></th>\n",
       "      <th>image_id</th>\n",
       "      <th>healthy</th>\n",
       "      <th>multiple_diseases</th>\n",
       "      <th>rust</th>\n",
       "      <th>scab</th>\n",
       "    </tr>\n",
       "  </thead>\n",
       "  <tbody>\n",
       "    <tr>\n",
       "      <th>1816</th>\n",
       "      <td>Train_1816</td>\n",
       "      <td>0</td>\n",
       "      <td>0</td>\n",
       "      <td>0</td>\n",
       "      <td>1</td>\n",
       "    </tr>\n",
       "    <tr>\n",
       "      <th>1817</th>\n",
       "      <td>Train_1817</td>\n",
       "      <td>1</td>\n",
       "      <td>0</td>\n",
       "      <td>0</td>\n",
       "      <td>0</td>\n",
       "    </tr>\n",
       "    <tr>\n",
       "      <th>1818</th>\n",
       "      <td>Train_1818</td>\n",
       "      <td>1</td>\n",
       "      <td>0</td>\n",
       "      <td>0</td>\n",
       "      <td>0</td>\n",
       "    </tr>\n",
       "    <tr>\n",
       "      <th>1819</th>\n",
       "      <td>Train_1819</td>\n",
       "      <td>0</td>\n",
       "      <td>0</td>\n",
       "      <td>1</td>\n",
       "      <td>0</td>\n",
       "    </tr>\n",
       "    <tr>\n",
       "      <th>1820</th>\n",
       "      <td>Train_1820</td>\n",
       "      <td>0</td>\n",
       "      <td>0</td>\n",
       "      <td>0</td>\n",
       "      <td>1</td>\n",
       "    </tr>\n",
       "  </tbody>\n",
       "</table>\n",
       "</div>"
      ],
      "text/plain": [
       "        image_id  healthy  multiple_diseases  rust  scab\n",
       "1816  Train_1816        0                  0     0     1\n",
       "1817  Train_1817        1                  0     0     0\n",
       "1818  Train_1818        1                  0     0     0\n",
       "1819  Train_1819        0                  0     1     0\n",
       "1820  Train_1820        0                  0     0     1"
      ]
     },
     "execution_count": 6,
     "metadata": {},
     "output_type": "execute_result"
    }
   ],
   "source": [
    "y_train.tail()"
   ]
  },
  {
   "cell_type": "markdown",
   "id": "69d9f258",
   "metadata": {
    "papermill": {
     "duration": 0.014786,
     "end_time": "2021-08-14T17:17:27.078875",
     "exception": false,
     "start_time": "2021-08-14T17:17:27.064089",
     "status": "completed"
    },
    "tags": []
   },
   "source": [
    "Image ids are named perfectly so we can use that."
   ]
  },
  {
   "cell_type": "code",
   "execution_count": 7,
   "id": "a1e962a9",
   "metadata": {
    "execution": {
     "iopub.execute_input": "2021-08-14T17:17:27.112773Z",
     "iopub.status.busy": "2021-08-14T17:17:27.112259Z",
     "iopub.status.idle": "2021-08-14T17:18:54.146768Z",
     "shell.execute_reply": "2021-08-14T17:18:54.145667Z",
     "shell.execute_reply.started": "2021-08-14T17:07:48.859357Z"
    },
    "papermill": {
     "duration": 87.053548,
     "end_time": "2021-08-14T17:18:54.146931",
     "exception": false,
     "start_time": "2021-08-14T17:17:27.093383",
     "status": "completed"
    },
    "tags": []
   },
   "outputs": [],
   "source": [
    "from tensorflow.keras.preprocessing import image\n",
    "X_train = [None]*1821\n",
    "\n",
    "for i in range(1821):\n",
    "    # /kaggle/input/plant-pathology-2020-fgvc7/images/Train_1524.jpg\n",
    "    path = '/kaggle/input/plant-pathology-2020-fgvc7/images/Train_' + str(i) + '.jpg'\n",
    "    img = image.load_img(path, grayscale=False, color_mode=\"rgb\", target_size=(255,255), interpolation=\"nearest\")\n",
    "    img = image.img_to_array(img)\n",
    "    X_train[i] = img\n",
    "X_train = np.array(X_train)"
   ]
  },
  {
   "cell_type": "code",
   "execution_count": 8,
   "id": "13111f02",
   "metadata": {
    "execution": {
     "iopub.execute_input": "2021-08-14T17:18:54.183414Z",
     "iopub.status.busy": "2021-08-14T17:18:54.182174Z",
     "iopub.status.idle": "2021-08-14T17:18:54.184489Z",
     "shell.execute_reply": "2021-08-14T17:18:54.184873Z",
     "shell.execute_reply.started": "2021-08-14T17:08:47.964257Z"
    },
    "papermill": {
     "duration": 0.022897,
     "end_time": "2021-08-14T17:18:54.184998",
     "exception": false,
     "start_time": "2021-08-14T17:18:54.162101",
     "status": "completed"
    },
    "tags": []
   },
   "outputs": [],
   "source": [
    "y_train = y_train.drop('image_id', axis=1).to_numpy()"
   ]
  },
  {
   "cell_type": "code",
   "execution_count": 9,
   "id": "e5f77098",
   "metadata": {
    "execution": {
     "iopub.execute_input": "2021-08-14T17:18:54.220327Z",
     "iopub.status.busy": "2021-08-14T17:18:54.219466Z",
     "iopub.status.idle": "2021-08-14T17:18:54.222055Z",
     "shell.execute_reply": "2021-08-14T17:18:54.222480Z",
     "shell.execute_reply.started": "2021-08-14T17:08:47.973522Z"
    },
    "papermill": {
     "duration": 0.023303,
     "end_time": "2021-08-14T17:18:54.222611",
     "exception": false,
     "start_time": "2021-08-14T17:18:54.199308",
     "status": "completed"
    },
    "tags": []
   },
   "outputs": [],
   "source": [
    "from tensorflow.keras.layers import Conv2D, Dense, Dropout, MaxPooling2D, Flatten\n",
    "from tensorflow.keras.models import Sequential\n",
    "from tensorflow.keras.callbacks import EarlyStopping"
   ]
  },
  {
   "cell_type": "code",
   "execution_count": 10,
   "id": "7afb3303",
   "metadata": {
    "execution": {
     "iopub.execute_input": "2021-08-14T17:18:54.264836Z",
     "iopub.status.busy": "2021-08-14T17:18:54.264326Z",
     "iopub.status.idle": "2021-08-14T17:18:56.054505Z",
     "shell.execute_reply": "2021-08-14T17:18:56.053800Z",
     "shell.execute_reply.started": "2021-08-14T17:15:11.789288Z"
    },
    "papermill": {
     "duration": 1.814884,
     "end_time": "2021-08-14T17:18:56.054673",
     "exception": false,
     "start_time": "2021-08-14T17:18:54.239789",
     "status": "completed"
    },
    "tags": []
   },
   "outputs": [
    {
     "name": "stdout",
     "output_type": "stream",
     "text": [
      "Model: \"sequential\"\n",
      "_________________________________________________________________\n",
      "Layer (type)                 Output Shape              Param #   \n",
      "=================================================================\n",
      "conv2d (Conv2D)              (None, 253, 253, 32)      896       \n",
      "_________________________________________________________________\n",
      "max_pooling2d (MaxPooling2D) (None, 126, 126, 32)      0         \n",
      "_________________________________________________________________\n",
      "conv2d_1 (Conv2D)            (None, 124, 124, 64)      18496     \n",
      "_________________________________________________________________\n",
      "max_pooling2d_1 (MaxPooling2 (None, 62, 62, 64)        0         \n",
      "_________________________________________________________________\n",
      "conv2d_2 (Conv2D)            (None, 60, 60, 128)       73856     \n",
      "_________________________________________________________________\n",
      "max_pooling2d_2 (MaxPooling2 (None, 30, 30, 128)       0         \n",
      "_________________________________________________________________\n",
      "conv2d_3 (Conv2D)            (None, 27, 27, 256)       524544    \n",
      "_________________________________________________________________\n",
      "max_pooling2d_3 (MaxPooling2 (None, 13, 13, 256)       0         \n",
      "_________________________________________________________________\n",
      "conv2d_4 (Conv2D)            (None, 9, 9, 512)         3277312   \n",
      "_________________________________________________________________\n",
      "max_pooling2d_4 (MaxPooling2 (None, 4, 4, 512)         0         \n",
      "_________________________________________________________________\n",
      "flatten (Flatten)            (None, 8192)              0         \n",
      "_________________________________________________________________\n",
      "dropout (Dropout)            (None, 8192)              0         \n",
      "_________________________________________________________________\n",
      "dense (Dense)                (None, 256)               2097408   \n",
      "_________________________________________________________________\n",
      "dropout_1 (Dropout)          (None, 256)               0         \n",
      "_________________________________________________________________\n",
      "dense_1 (Dense)              (None, 128)               32896     \n",
      "_________________________________________________________________\n",
      "dropout_2 (Dropout)          (None, 128)               0         \n",
      "_________________________________________________________________\n",
      "dense_2 (Dense)              (None, 64)                8256      \n",
      "_________________________________________________________________\n",
      "dropout_3 (Dropout)          (None, 64)                0         \n",
      "_________________________________________________________________\n",
      "dense_3 (Dense)              (None, 4)                 260       \n",
      "=================================================================\n",
      "Total params: 6,033,924\n",
      "Trainable params: 6,033,924\n",
      "Non-trainable params: 0\n",
      "_________________________________________________________________\n"
     ]
    }
   ],
   "source": [
    "model = Sequential()\n",
    "model.add(Conv2D(32, (3,3), input_shape=(255,255,3), activation='relu'))\n",
    "model.add(MaxPooling2D((2,2)))\n",
    "model.add(Conv2D(64, (3,3), activation='relu'))\n",
    "model.add(MaxPooling2D((2,2)))\n",
    "model.add(Conv2D(128, (3,3), activation='relu'))\n",
    "model.add(MaxPooling2D((2,2)))\n",
    "model.add(Conv2D(256, (4,4), activation='relu'))\n",
    "model.add(MaxPooling2D((2,2)))\n",
    "model.add(Conv2D(512, (5,5), activation='relu'))\n",
    "model.add(MaxPooling2D((2,2)))\n",
    "model.add(Flatten())\n",
    "model.add(Dropout(.5))\n",
    "model.add(Dense(256, activation='relu'))\n",
    "model.add(Dropout(.25))\n",
    "model.add(Dense(128, activation='relu'))\n",
    "model.add(Dropout(.25))\n",
    "model.add(Dense(64, activation='relu'))\n",
    "model.add(Dropout(.25))\n",
    "model.add(Dense(4, activation='softmax'))\n",
    "\n",
    "model.summary()"
   ]
  },
  {
   "cell_type": "code",
   "execution_count": 11,
   "id": "71667d8c",
   "metadata": {
    "execution": {
     "iopub.execute_input": "2021-08-14T17:18:56.099938Z",
     "iopub.status.busy": "2021-08-14T17:18:56.098961Z",
     "iopub.status.idle": "2021-08-14T17:18:56.113602Z",
     "shell.execute_reply": "2021-08-14T17:18:56.114074Z",
     "shell.execute_reply.started": "2021-08-14T17:15:16.429327Z"
    },
    "papermill": {
     "duration": 0.042829,
     "end_time": "2021-08-14T17:18:56.114219",
     "exception": false,
     "start_time": "2021-08-14T17:18:56.071390",
     "status": "completed"
    },
    "tags": []
   },
   "outputs": [],
   "source": [
    "from tensorflow.keras.metrics import AUC\n",
    "model.compile(loss=\"categorical_crossentropy\", optimizer=\"adam\", metrics=[AUC()])\n",
    "cb = EarlyStopping(monitor='val_loss', mode='min', patience=5, verbose=1)"
   ]
  },
  {
   "cell_type": "code",
   "execution_count": 12,
   "id": "adf47e23",
   "metadata": {
    "execution": {
     "iopub.execute_input": "2021-08-14T17:18:56.149199Z",
     "iopub.status.busy": "2021-08-14T17:18:56.148597Z",
     "iopub.status.idle": "2021-08-14T17:20:34.136178Z",
     "shell.execute_reply": "2021-08-14T17:20:34.135648Z"
    },
    "papermill": {
     "duration": 98.007281,
     "end_time": "2021-08-14T17:20:34.136310",
     "exception": false,
     "start_time": "2021-08-14T17:18:56.129029",
     "status": "completed"
    },
    "tags": []
   },
   "outputs": [
    {
     "name": "stdout",
     "output_type": "stream",
     "text": [
      "Epoch 1/500\n",
      "11/11 - 15s - loss: 8.5722 - auc: 0.5667 - val_loss: 1.2823 - val_auc: 0.6921\n",
      "Epoch 2/500\n",
      "11/11 - 2s - loss: 1.3012 - auc: 0.6324 - val_loss: 1.2583 - val_auc: 0.6557\n",
      "Epoch 3/500\n",
      "11/11 - 2s - loss: 1.2764 - auc: 0.6414 - val_loss: 1.2625 - val_auc: 0.6416\n",
      "Epoch 4/500\n",
      "11/11 - 2s - loss: 1.2814 - auc: 0.6548 - val_loss: 1.2600 - val_auc: 0.6403\n",
      "Epoch 5/500\n",
      "11/11 - 2s - loss: 1.2609 - auc: 0.6504 - val_loss: 1.2414 - val_auc: 0.6774\n",
      "Epoch 6/500\n",
      "11/11 - 2s - loss: 1.2514 - auc: 0.6584 - val_loss: 1.2439 - val_auc: 0.6803\n",
      "Epoch 7/500\n",
      "11/11 - 2s - loss: 1.2487 - auc: 0.6771 - val_loss: 1.2268 - val_auc: 0.6905\n",
      "Epoch 8/500\n",
      "11/11 - 2s - loss: 1.2348 - auc: 0.6873 - val_loss: 1.2168 - val_auc: 0.6990\n",
      "Epoch 9/500\n",
      "11/11 - 2s - loss: 1.2295 - auc: 0.6943 - val_loss: 1.2318 - val_auc: 0.7040\n",
      "Epoch 10/500\n",
      "11/11 - 2s - loss: 1.2254 - auc: 0.6987 - val_loss: 1.2139 - val_auc: 0.7176\n",
      "Epoch 11/500\n",
      "11/11 - 2s - loss: 1.2194 - auc: 0.6988 - val_loss: 1.2006 - val_auc: 0.7199\n",
      "Epoch 12/500\n",
      "11/11 - 2s - loss: 1.2271 - auc: 0.7004 - val_loss: 1.2544 - val_auc: 0.6604\n",
      "Epoch 13/500\n",
      "11/11 - 2s - loss: 1.2271 - auc: 0.6875 - val_loss: 1.2285 - val_auc: 0.7073\n",
      "Epoch 14/500\n",
      "11/11 - 2s - loss: 1.2097 - auc: 0.7052 - val_loss: 1.2197 - val_auc: 0.7163\n",
      "Epoch 15/500\n",
      "11/11 - 2s - loss: 1.1971 - auc: 0.7194 - val_loss: 1.1831 - val_auc: 0.7328\n",
      "Epoch 16/500\n",
      "11/11 - 2s - loss: 1.2043 - auc: 0.7088 - val_loss: 1.2389 - val_auc: 0.7030\n",
      "Epoch 17/500\n",
      "11/11 - 2s - loss: 1.2073 - auc: 0.7157 - val_loss: 1.1942 - val_auc: 0.7308\n",
      "Epoch 18/500\n",
      "11/11 - 2s - loss: 1.1829 - auc: 0.7251 - val_loss: 1.2121 - val_auc: 0.6999\n",
      "Epoch 19/500\n",
      "11/11 - 2s - loss: 1.1721 - auc: 0.7284 - val_loss: 1.1707 - val_auc: 0.7410\n",
      "Epoch 20/500\n",
      "11/11 - 2s - loss: 1.1658 - auc: 0.7357 - val_loss: 1.1667 - val_auc: 0.7464\n",
      "Epoch 21/500\n",
      "11/11 - 2s - loss: 1.1431 - auc: 0.7512 - val_loss: 1.1574 - val_auc: 0.7534\n",
      "Epoch 22/500\n",
      "11/11 - 2s - loss: 1.1213 - auc: 0.7685 - val_loss: 1.1504 - val_auc: 0.7560\n",
      "Epoch 23/500\n",
      "11/11 - 2s - loss: 1.1011 - auc: 0.7739 - val_loss: 1.1493 - val_auc: 0.7697\n",
      "Epoch 24/500\n",
      "11/11 - 2s - loss: 1.0924 - auc: 0.7829 - val_loss: 1.2171 - val_auc: 0.7305\n",
      "Epoch 25/500\n",
      "11/11 - 2s - loss: 1.0659 - auc: 0.7967 - val_loss: 1.1963 - val_auc: 0.7687\n",
      "Epoch 26/500\n",
      "11/11 - 2s - loss: 1.0405 - auc: 0.8071 - val_loss: 1.1450 - val_auc: 0.7675\n",
      "Epoch 27/500\n",
      "11/11 - 2s - loss: 0.9627 - auc: 0.8419 - val_loss: 1.0528 - val_auc: 0.8162\n",
      "Epoch 28/500\n",
      "11/11 - 2s - loss: 0.9512 - auc: 0.8457 - val_loss: 1.0724 - val_auc: 0.8019\n",
      "Epoch 29/500\n",
      "11/11 - 2s - loss: 0.8848 - auc: 0.8658 - val_loss: 0.9754 - val_auc: 0.8627\n",
      "Epoch 30/500\n",
      "11/11 - 2s - loss: 0.7576 - auc: 0.9078 - val_loss: 0.9096 - val_auc: 0.8892\n",
      "Epoch 31/500\n",
      "11/11 - 2s - loss: 0.6861 - auc: 0.9231 - val_loss: 0.8211 - val_auc: 0.8935\n",
      "Epoch 32/500\n",
      "11/11 - 2s - loss: 0.6205 - auc: 0.9371 - val_loss: 0.9460 - val_auc: 0.8914\n",
      "Epoch 33/500\n",
      "11/11 - 2s - loss: 0.5367 - auc: 0.9541 - val_loss: 0.8022 - val_auc: 0.9081\n",
      "Epoch 34/500\n",
      "11/11 - 2s - loss: 0.5168 - auc: 0.9544 - val_loss: 0.7390 - val_auc: 0.9153\n",
      "Epoch 35/500\n",
      "11/11 - 2s - loss: 0.4763 - auc: 0.9613 - val_loss: 0.7850 - val_auc: 0.9192\n",
      "Epoch 36/500\n",
      "11/11 - 2s - loss: 0.3893 - auc: 0.9734 - val_loss: 0.8187 - val_auc: 0.9223\n",
      "Epoch 37/500\n",
      "11/11 - 2s - loss: 0.3354 - auc: 0.9800 - val_loss: 0.8973 - val_auc: 0.9126\n",
      "Epoch 38/500\n",
      "11/11 - 2s - loss: 0.3393 - auc: 0.9792 - val_loss: 0.8286 - val_auc: 0.9153\n",
      "Epoch 39/500\n",
      "11/11 - 2s - loss: 0.3236 - auc: 0.9810 - val_loss: 1.0540 - val_auc: 0.9196\n",
      "Epoch 00039: early stopping\n"
     ]
    },
    {
     "data": {
      "text/plain": [
       "<tensorflow.python.keras.callbacks.History at 0x7f82003ee150>"
      ]
     },
     "execution_count": 12,
     "metadata": {},
     "output_type": "execute_result"
    }
   ],
   "source": [
    "model.fit(x=X_train, y=y_train, batch_size=128, epochs=500, callbacks=[cb], validation_split=0.25, verbose=2)"
   ]
  },
  {
   "cell_type": "code",
   "execution_count": 13,
   "id": "65e70615",
   "metadata": {
    "execution": {
     "iopub.execute_input": "2021-08-14T17:20:34.220105Z",
     "iopub.status.busy": "2021-08-14T17:20:34.219492Z",
     "iopub.status.idle": "2021-08-14T17:20:34.662941Z",
     "shell.execute_reply": "2021-08-14T17:20:34.663344Z",
     "shell.execute_reply.started": "2021-08-14T16:46:11.383021Z"
    },
    "papermill": {
     "duration": 0.485395,
     "end_time": "2021-08-14T17:20:34.663493",
     "exception": false,
     "start_time": "2021-08-14T17:20:34.178098",
     "status": "completed"
    },
    "tags": []
   },
   "outputs": [
    {
     "data": {
      "text/plain": [
       "<AxesSubplot:>"
      ]
     },
     "execution_count": 13,
     "metadata": {},
     "output_type": "execute_result"
    },
    {
     "data": {
      "image/png": "[encoded data removed]",
      "text/plain": [
       "<Figure size 432x288 with 1 Axes>"
      ]
     },
     "metadata": {
      "needs_background": "light"
     },
     "output_type": "display_data"
    }
   ],
   "source": [
    "pd.DataFrame(model.history.history).plot()"
   ]
  },
  {
   "cell_type": "code",
   "execution_count": 14,
   "id": "61babc6d",
   "metadata": {
    "execution": {
     "iopub.execute_input": "2021-08-14T17:20:34.747969Z",
     "iopub.status.busy": "2021-08-14T17:20:34.747432Z",
     "iopub.status.idle": "2021-08-14T17:22:01.206796Z",
     "shell.execute_reply": "2021-08-14T17:22:01.206312Z",
     "shell.execute_reply.started": "2021-08-14T16:46:23.379009Z"
    },
    "papermill": {
     "duration": 86.505462,
     "end_time": "2021-08-14T17:22:01.206929",
     "exception": false,
     "start_time": "2021-08-14T17:20:34.701467",
     "status": "completed"
    },
    "tags": []
   },
   "outputs": [],
   "source": [
    "X_test = [None]*1821\n",
    "\n",
    "for i in range(1821):\n",
    "    # /kaggle/input/plant-pathology-2020-fgvc7/images/Train_1524.jpg\n",
    "    path = '/kaggle/input/plant-pathology-2020-fgvc7/images/Test_' + str(i) + '.jpg'\n",
    "    img = image.load_img(path, grayscale=False, color_mode=\"rgb\", target_size=(255,255), interpolation=\"nearest\")\n",
    "    img = image.img_to_array(img)\n",
    "    X_test[i] = img\n",
    "X_test = np.array(X_train)"
   ]
  },
  {
   "cell_type": "code",
   "execution_count": 15,
   "id": "1dca46f9",
   "metadata": {
    "execution": {
     "iopub.execute_input": "2021-08-14T17:22:01.285100Z",
     "iopub.status.busy": "2021-08-14T17:22:01.283544Z",
     "iopub.status.idle": "2021-08-14T17:22:04.038384Z",
     "shell.execute_reply": "2021-08-14T17:22:04.037191Z",
     "shell.execute_reply.started": "2021-08-14T16:47:22.274514Z"
    },
    "papermill": {
     "duration": 2.795133,
     "end_time": "2021-08-14T17:22:04.038532",
     "exception": false,
     "start_time": "2021-08-14T17:22:01.243399",
     "status": "completed"
    },
    "tags": []
   },
   "outputs": [],
   "source": [
    "pred = model.predict(X_test)"
   ]
  },
  {
   "cell_type": "code",
   "execution_count": 16,
   "id": "3eedb15c",
   "metadata": {
    "execution": {
     "iopub.execute_input": "2021-08-14T17:22:04.123077Z",
     "iopub.status.busy": "2021-08-14T17:22:04.122415Z",
     "iopub.status.idle": "2021-08-14T17:22:04.140239Z",
     "shell.execute_reply": "2021-08-14T17:22:04.139812Z",
     "shell.execute_reply.started": "2021-08-14T16:47:24.13665Z"
    },
    "papermill": {
     "duration": 0.064474,
     "end_time": "2021-08-14T17:22:04.140349",
     "exception": false,
     "start_time": "2021-08-14T17:22:04.075875",
     "status": "completed"
    },
    "tags": []
   },
   "outputs": [],
   "source": [
    "test_pred = pd.DataFrame(pred, columns=['healthy', 'multiple_diseases', 'rust', 'scab'])\n",
    "result = pd.concat([y_test, test_pred], axis=1)\n",
    "result.to_csv('plant_pathology_pred.csv',index=False)"
   ]
  },
  {
   "cell_type": "code",
   "execution_count": null,
   "id": "ce28c700",
   "metadata": {
    "papermill": {
     "duration": 0.036048,
     "end_time": "2021-08-14T17:22:04.213034",
     "exception": false,
     "start_time": "2021-08-14T17:22:04.176986",
     "status": "completed"
    },
    "tags": []
   },
   "outputs": [],
   "source": []
  }
 ],
 "metadata": {
  "kernelspec": {
   "display_name": "Python 3",
   "language": "python",
   "name": "python3"
  },
  "language_info": {
   "codemirror_mode": {
    "name": "ipython",
    "version": 3
   },
   "file_extension": ".py",
   "mimetype": "text/x-python",
   "name": "python",
   "nbconvert_exporter": "python",
   "pygments_lexer": "ipython3",
   "version": "3.7.10"
  },
  "papermill": {
   "default_parameters": {},
   "duration": 286.705873,
   "end_time": "2021-08-14T17:22:06.889449",
   "environment_variables": {},
   "exception": null,
   "input_path": "__notebook__.ipynb",
   "output_path": "__notebook__.ipynb",
   "parameters": {},
   "start_time": "2021-08-14T17:17:20.183576",
   "version": "2.3.3"
  }
 },
 "nbformat": 4,
 "nbformat_minor": 5
}
