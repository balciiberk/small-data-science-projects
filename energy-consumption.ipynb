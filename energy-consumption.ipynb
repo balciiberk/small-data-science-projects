{
 "cells": [
  {
   "cell_type": "code",
   "execution_count": 1,
   "id": "8873a35b",
   "metadata": {
    "_cell_guid": "b1076dfc-b9ad-4769-8c92-a6c4dae69d19",
    "_uuid": "8f2839f25d086af736a60e9eeb907d3b93b6e0e5",
    "execution": {
     "iopub.execute_input": "2021-08-23T19:05:20.090050Z",
     "iopub.status.busy": "2021-08-23T19:05:20.089371Z",
     "iopub.status.idle": "2021-08-23T19:05:20.092682Z",
     "shell.execute_reply": "2021-08-23T19:05:20.092036Z",
     "shell.execute_reply.started": "2021-08-23T18:37:17.296045Z"
    },
    "papermill": {
     "duration": 0.0403,
     "end_time": "2021-08-23T19:05:20.092855",
     "exception": false,
     "start_time": "2021-08-23T19:05:20.052555",
     "status": "completed"
    },
    "tags": []
   },
   "outputs": [],
   "source": [
    "import numpy as np\n",
    "import pandas as pd"
   ]
  },
  {
   "cell_type": "code",
   "execution_count": 2,
   "id": "5be900df",
   "metadata": {
    "execution": {
     "iopub.execute_input": "2021-08-23T19:05:20.149462Z",
     "iopub.status.busy": "2021-08-23T19:05:20.148876Z",
     "iopub.status.idle": "2021-08-23T19:05:21.179749Z",
     "shell.execute_reply": "2021-08-23T19:05:21.180329Z",
     "shell.execute_reply.started": "2021-08-23T18:37:17.320476Z"
    },
    "papermill": {
     "duration": 1.06001,
     "end_time": "2021-08-23T19:05:21.180497",
     "exception": false,
     "start_time": "2021-08-23T19:05:20.120487",
     "status": "completed"
    },
    "tags": []
   },
   "outputs": [],
   "source": [
    "energy = pd.read_csv('/kaggle/input/energy-consumption-generation-prices-and-weather/energy_dataset.csv')\n",
    "weather = pd.read_csv('/kaggle/input/energy-consumption-generation-prices-and-weather/weather_features.csv')"
   ]
  },
  {
   "cell_type": "code",
   "execution_count": 3,
   "id": "aa1a6ab2",
   "metadata": {
    "execution": {
     "iopub.execute_input": "2021-08-23T19:05:21.236875Z",
     "iopub.status.busy": "2021-08-23T19:05:21.236171Z",
     "iopub.status.idle": "2021-08-23T19:05:21.271438Z",
     "shell.execute_reply": "2021-08-23T19:05:21.271924Z",
     "shell.execute_reply.started": "2021-08-23T18:37:17.979011Z"
    },
    "papermill": {
     "duration": 0.066157,
     "end_time": "2021-08-23T19:05:21.272093",
     "exception": false,
     "start_time": "2021-08-23T19:05:21.205936",
     "status": "completed"
    },
    "tags": []
   },
   "outputs": [
    {
     "name": "stdout",
     "output_type": "stream",
     "text": [
      "<class 'pandas.core.frame.DataFrame'>\n",
      "RangeIndex: 35064 entries, 0 to 35063\n",
      "Data columns (total 29 columns):\n",
      " #   Column                                       Non-Null Count  Dtype  \n",
      "---  ------                                       --------------  -----  \n",
      " 0   time                                         35064 non-null  object \n",
      " 1   generation biomass                           35045 non-null  float64\n",
      " 2   generation fossil brown coal/lignite         35046 non-null  float64\n",
      " 3   generation fossil coal-derived gas           35046 non-null  float64\n",
      " 4   generation fossil gas                        35046 non-null  float64\n",
      " 5   generation fossil hard coal                  35046 non-null  float64\n",
      " 6   generation fossil oil                        35045 non-null  float64\n",
      " 7   generation fossil oil shale                  35046 non-null  float64\n",
      " 8   generation fossil peat                       35046 non-null  float64\n",
      " 9   generation geothermal                        35046 non-null  float64\n",
      " 10  generation hydro pumped storage aggregated   0 non-null      float64\n",
      " 11  generation hydro pumped storage consumption  35045 non-null  float64\n",
      " 12  generation hydro run-of-river and poundage   35045 non-null  float64\n",
      " 13  generation hydro water reservoir             35046 non-null  float64\n",
      " 14  generation marine                            35045 non-null  float64\n",
      " 15  generation nuclear                           35047 non-null  float64\n",
      " 16  generation other                             35046 non-null  float64\n",
      " 17  generation other renewable                   35046 non-null  float64\n",
      " 18  generation solar                             35046 non-null  float64\n",
      " 19  generation waste                             35045 non-null  float64\n",
      " 20  generation wind offshore                     35046 non-null  float64\n",
      " 21  generation wind onshore                      35046 non-null  float64\n",
      " 22  forecast solar day ahead                     35064 non-null  float64\n",
      " 23  forecast wind offshore eday ahead            0 non-null      float64\n",
      " 24  forecast wind onshore day ahead              35064 non-null  float64\n",
      " 25  total load forecast                          35064 non-null  float64\n",
      " 26  total load actual                            35028 non-null  float64\n",
      " 27  price day ahead                              35064 non-null  float64\n",
      " 28  price actual                                 35064 non-null  float64\n",
      "dtypes: float64(28), object(1)\n",
      "memory usage: 7.8+ MB\n"
     ]
    }
   ],
   "source": [
    "energy.info()"
   ]
  },
  {
   "cell_type": "code",
   "execution_count": 4,
   "id": "84f11437",
   "metadata": {
    "execution": {
     "iopub.execute_input": "2021-08-23T19:05:21.330090Z",
     "iopub.status.busy": "2021-08-23T19:05:21.329418Z",
     "iopub.status.idle": "2021-08-23T19:05:21.432766Z",
     "shell.execute_reply": "2021-08-23T19:05:21.432202Z",
     "shell.execute_reply.started": "2021-08-23T18:37:18.001135Z"
    },
    "papermill": {
     "duration": 0.134276,
     "end_time": "2021-08-23T19:05:21.432908",
     "exception": false,
     "start_time": "2021-08-23T19:05:21.298632",
     "status": "completed"
    },
    "tags": []
   },
   "outputs": [
    {
     "name": "stdout",
     "output_type": "stream",
     "text": [
      "<class 'pandas.core.frame.DataFrame'>\n",
      "RangeIndex: 178396 entries, 0 to 178395\n",
      "Data columns (total 17 columns):\n",
      " #   Column               Non-Null Count   Dtype  \n",
      "---  ------               --------------   -----  \n",
      " 0   dt_iso               178396 non-null  object \n",
      " 1   city_name            178396 non-null  object \n",
      " 2   temp                 178396 non-null  float64\n",
      " 3   temp_min             178396 non-null  float64\n",
      " 4   temp_max             178396 non-null  float64\n",
      " 5   pressure             178396 non-null  int64  \n",
      " 6   humidity             178396 non-null  int64  \n",
      " 7   wind_speed           178396 non-null  int64  \n",
      " 8   wind_deg             178396 non-null  int64  \n",
      " 9   rain_1h              178396 non-null  float64\n",
      " 10  rain_3h              178396 non-null  float64\n",
      " 11  snow_3h              178396 non-null  float64\n",
      " 12  clouds_all           178396 non-null  int64  \n",
      " 13  weather_id           178396 non-null  int64  \n",
      " 14  weather_main         178396 non-null  object \n",
      " 15  weather_description  178396 non-null  object \n",
      " 16  weather_icon         178396 non-null  object \n",
      "dtypes: float64(6), int64(6), object(5)\n",
      "memory usage: 23.1+ MB\n"
     ]
    }
   ],
   "source": [
    "weather.info()"
   ]
  },
  {
   "cell_type": "code",
   "execution_count": 5,
   "id": "95c2baf5",
   "metadata": {
    "execution": {
     "iopub.execute_input": "2021-08-23T19:05:21.494401Z",
     "iopub.status.busy": "2021-08-23T19:05:21.493767Z",
     "iopub.status.idle": "2021-08-23T19:05:21.496407Z",
     "shell.execute_reply": "2021-08-23T19:05:21.496890Z",
     "shell.execute_reply.started": "2021-08-23T18:37:18.055528Z"
    },
    "papermill": {
     "duration": 0.038828,
     "end_time": "2021-08-23T19:05:21.497060",
     "exception": false,
     "start_time": "2021-08-23T19:05:21.458232",
     "status": "completed"
    },
    "tags": []
   },
   "outputs": [],
   "source": [
    "energy.drop(['generation hydro pumped storage aggregated', 'forecast wind offshore eday ahead'], axis=1, inplace=True)"
   ]
  },
  {
   "cell_type": "code",
   "execution_count": 6,
   "id": "9028153e",
   "metadata": {
    "execution": {
     "iopub.execute_input": "2021-08-23T19:05:21.579156Z",
     "iopub.status.busy": "2021-08-23T19:05:21.568828Z",
     "iopub.status.idle": "2021-08-23T19:05:51.686710Z",
     "shell.execute_reply": "2021-08-23T19:05:51.686160Z",
     "shell.execute_reply.started": "2021-08-23T18:37:18.064854Z"
    },
    "papermill": {
     "duration": 30.164032,
     "end_time": "2021-08-23T19:05:51.686861",
     "exception": false,
     "start_time": "2021-08-23T19:05:21.522829",
     "status": "completed"
    },
    "tags": []
   },
   "outputs": [],
   "source": [
    "energy['time'] = pd.to_datetime(energy['time'])\n",
    "weather['time'] = pd.to_datetime(weather['dt_iso'])\n",
    "weather.drop('dt_iso', axis=1, inplace=True)"
   ]
  },
  {
   "cell_type": "code",
   "execution_count": 7,
   "id": "e8b06298",
   "metadata": {
    "execution": {
     "iopub.execute_input": "2021-08-23T19:05:51.744160Z",
     "iopub.status.busy": "2021-08-23T19:05:51.743540Z",
     "iopub.status.idle": "2021-08-23T19:05:51.760381Z",
     "shell.execute_reply": "2021-08-23T19:05:51.759849Z",
     "shell.execute_reply.started": "2021-08-23T18:37:42.182099Z"
    },
    "papermill": {
     "duration": 0.047916,
     "end_time": "2021-08-23T19:05:51.760535",
     "exception": false,
     "start_time": "2021-08-23T19:05:51.712619",
     "status": "completed"
    },
    "tags": []
   },
   "outputs": [],
   "source": [
    "weather.drop(['weather_description', 'weather_icon'], axis=1, inplace=True)"
   ]
  },
  {
   "cell_type": "markdown",
   "id": "c9417944",
   "metadata": {
    "papermill": {
     "duration": 0.026987,
     "end_time": "2021-08-23T19:05:51.813498",
     "exception": false,
     "start_time": "2021-08-23T19:05:51.786511",
     "status": "completed"
    },
    "tags": []
   },
   "source": [
    "Weather icon is very similar to weather main which we will use as categories. Weather description could be feature engineered but we already have many data and most probably results would be close to weather main. So we dropped them."
   ]
  },
  {
   "cell_type": "code",
   "execution_count": 8,
   "id": "c82917c3",
   "metadata": {
    "execution": {
     "iopub.execute_input": "2021-08-23T19:05:51.917560Z",
     "iopub.status.busy": "2021-08-23T19:05:51.912628Z",
     "iopub.status.idle": "2021-08-23T19:05:51.922277Z",
     "shell.execute_reply": "2021-08-23T19:05:51.922811Z",
     "shell.execute_reply.started": "2021-08-23T18:37:42.202738Z"
    },
    "papermill": {
     "duration": 0.08331,
     "end_time": "2021-08-23T19:05:51.922990",
     "exception": false,
     "start_time": "2021-08-23T19:05:51.839680",
     "status": "completed"
    },
    "tags": []
   },
   "outputs": [
    {
     "data": {
      "text/plain": [
       "clear           82685\n",
       "clouds          68055\n",
       "rain            17391\n",
       "mist             3908\n",
       "fog              2506\n",
       "drizzle          1724\n",
       "thunderstorm     1041\n",
       "haze              435\n",
       "dust              347\n",
       "snow              270\n",
       "smoke              33\n",
       "squall              1\n",
       "Name: weather_main, dtype: int64"
      ]
     },
     "execution_count": 8,
     "metadata": {},
     "output_type": "execute_result"
    }
   ],
   "source": [
    "weather['weather_main'].value_counts()"
   ]
  },
  {
   "cell_type": "code",
   "execution_count": 9,
   "id": "6af34cfc",
   "metadata": {
    "execution": {
     "iopub.execute_input": "2021-08-23T19:05:51.978711Z",
     "iopub.status.busy": "2021-08-23T19:05:51.978117Z",
     "iopub.status.idle": "2021-08-23T19:05:52.049587Z",
     "shell.execute_reply": "2021-08-23T19:05:52.050044Z",
     "shell.execute_reply.started": "2021-08-23T18:37:42.230741Z"
    },
    "papermill": {
     "duration": 0.101463,
     "end_time": "2021-08-23T19:05:52.050215",
     "exception": false,
     "start_time": "2021-08-23T19:05:51.948752",
     "status": "completed"
    },
    "tags": []
   },
   "outputs": [],
   "source": [
    "dummies = pd.get_dummies(weather['weather_main'], drop_first=True).drop('squall', axis=1)\n",
    "weather = pd.concat([weather, dummies], axis=1).drop('weather_main', axis=1)"
   ]
  },
  {
   "cell_type": "markdown",
   "id": "7737bd7f",
   "metadata": {
    "papermill": {
     "duration": 0.025618,
     "end_time": "2021-08-23T19:05:52.101594",
     "exception": false,
     "start_time": "2021-08-23T19:05:52.075976",
     "status": "completed"
    },
    "tags": []
   },
   "source": [
    "There is only 1 squall, we may drop that column because it is almost a column full of zeros."
   ]
  },
  {
   "cell_type": "code",
   "execution_count": 10,
   "id": "1a313264",
   "metadata": {
    "execution": {
     "iopub.execute_input": "2021-08-23T19:05:52.194995Z",
     "iopub.status.busy": "2021-08-23T19:05:52.194284Z",
     "iopub.status.idle": "2021-08-23T19:05:52.216667Z",
     "shell.execute_reply": "2021-08-23T19:05:52.216109Z",
     "shell.execute_reply.started": "2021-08-23T18:37:42.295734Z"
    },
    "papermill": {
     "duration": 0.088677,
     "end_time": "2021-08-23T19:05:52.216834",
     "exception": false,
     "start_time": "2021-08-23T19:05:52.128157",
     "status": "completed"
    },
    "tags": []
   },
   "outputs": [
    {
     "name": "stdout",
     "output_type": "stream",
     "text": [
      "<class 'pandas.core.frame.DataFrame'>\n",
      "RangeIndex: 178396 entries, 0 to 178395\n",
      "Data columns (total 24 columns):\n",
      " #   Column        Non-Null Count   Dtype  \n",
      "---  ------        --------------   -----  \n",
      " 0   city_name     178396 non-null  object \n",
      " 1   temp          178396 non-null  float64\n",
      " 2   temp_min      178396 non-null  float64\n",
      " 3   temp_max      178396 non-null  float64\n",
      " 4   pressure      178396 non-null  int64  \n",
      " 5   humidity      178396 non-null  int64  \n",
      " 6   wind_speed    178396 non-null  int64  \n",
      " 7   wind_deg      178396 non-null  int64  \n",
      " 8   rain_1h       178396 non-null  float64\n",
      " 9   rain_3h       178396 non-null  float64\n",
      " 10  snow_3h       178396 non-null  float64\n",
      " 11  clouds_all    178396 non-null  int64  \n",
      " 12  weather_id    178396 non-null  int64  \n",
      " 13  time          178396 non-null  object \n",
      " 14  clouds        178396 non-null  uint8  \n",
      " 15  drizzle       178396 non-null  uint8  \n",
      " 16  dust          178396 non-null  uint8  \n",
      " 17  fog           178396 non-null  uint8  \n",
      " 18  haze          178396 non-null  uint8  \n",
      " 19  mist          178396 non-null  uint8  \n",
      " 20  rain          178396 non-null  uint8  \n",
      " 21  smoke         178396 non-null  uint8  \n",
      " 22  snow          178396 non-null  uint8  \n",
      " 23  thunderstorm  178396 non-null  uint8  \n",
      "dtypes: float64(6), int64(6), object(2), uint8(10)\n",
      "memory usage: 20.8+ MB\n"
     ]
    }
   ],
   "source": [
    "weather.info()"
   ]
  },
  {
   "cell_type": "code",
   "execution_count": 11,
   "id": "a2dde88c",
   "metadata": {
    "execution": {
     "iopub.execute_input": "2021-08-23T19:05:52.286344Z",
     "iopub.status.busy": "2021-08-23T19:05:52.285688Z",
     "iopub.status.idle": "2021-08-23T19:05:52.292709Z",
     "shell.execute_reply": "2021-08-23T19:05:52.293219Z",
     "shell.execute_reply.started": "2021-08-23T18:41:09.069795Z"
    },
    "papermill": {
     "duration": 0.047518,
     "end_time": "2021-08-23T19:05:52.293384",
     "exception": false,
     "start_time": "2021-08-23T19:05:52.245866",
     "status": "completed"
    },
    "tags": []
   },
   "outputs": [
    {
     "data": {
      "text/plain": [
       "array(['Valencia', 'Madrid', 'Bilbao', ' Barcelona', 'Seville'],\n",
       "      dtype=object)"
      ]
     },
     "execution_count": 11,
     "metadata": {},
     "output_type": "execute_result"
    }
   ],
   "source": [
    "city_names = weather.city_name.unique()\n",
    "city_names"
   ]
  },
  {
   "cell_type": "markdown",
   "id": "feefca77",
   "metadata": {
    "papermill": {
     "duration": 0.026688,
     "end_time": "2021-08-23T19:05:52.347256",
     "exception": false,
     "start_time": "2021-08-23T19:05:52.320568",
     "status": "completed"
    },
    "tags": []
   },
   "source": [
    "We have the weather data of 5 cities. We may group them by time and unstack the cities. Which means we will have time as index and 22 column of weather data for each city. Then we can join all cities together and join them with energy data."
   ]
  },
  {
   "cell_type": "code",
   "execution_count": 12,
   "id": "bf4f530e",
   "metadata": {
    "execution": {
     "iopub.execute_input": "2021-08-23T19:05:52.404352Z",
     "iopub.status.busy": "2021-08-23T19:05:52.403756Z",
     "iopub.status.idle": "2021-08-23T19:05:52.580881Z",
     "shell.execute_reply": "2021-08-23T19:05:52.580314Z",
     "shell.execute_reply.started": "2021-08-23T18:37:42.348577Z"
    },
    "papermill": {
     "duration": 0.206796,
     "end_time": "2021-08-23T19:05:52.581026",
     "exception": false,
     "start_time": "2021-08-23T19:05:52.374230",
     "status": "completed"
    },
    "tags": []
   },
   "outputs": [],
   "source": [
    "cities= {}\n",
    "for i in city_names:\n",
    "    cities[i] = weather[weather['city_name'] == i].drop('city_name', axis=1).add_prefix(i+'_').rename(columns={i+'_time':'time'})"
   ]
  },
  {
   "cell_type": "code",
   "execution_count": 13,
   "id": "ee19a579",
   "metadata": {
    "execution": {
     "iopub.execute_input": "2021-08-23T19:05:52.640468Z",
     "iopub.status.busy": "2021-08-23T19:05:52.639876Z",
     "iopub.status.idle": "2021-08-23T19:05:53.301467Z",
     "shell.execute_reply": "2021-08-23T19:05:53.300917Z",
     "shell.execute_reply.started": "2021-08-23T18:37:42.459924Z"
    },
    "papermill": {
     "duration": 0.693471,
     "end_time": "2021-08-23T19:05:53.301633",
     "exception": false,
     "start_time": "2021-08-23T19:05:52.608162",
     "status": "completed"
    },
    "tags": []
   },
   "outputs": [],
   "source": [
    "for i in cities:\n",
    "    energy = pd.merge(energy, cities[i], on='time')"
   ]
  },
  {
   "cell_type": "code",
   "execution_count": 14,
   "id": "bce35bd2",
   "metadata": {
    "execution": {
     "iopub.execute_input": "2021-08-23T19:05:53.365621Z",
     "iopub.status.busy": "2021-08-23T19:05:53.364694Z",
     "iopub.status.idle": "2021-08-23T19:05:53.602202Z",
     "shell.execute_reply": "2021-08-23T19:05:53.602735Z",
     "shell.execute_reply.started": "2021-08-23T18:37:42.969945Z"
    },
    "papermill": {
     "duration": 0.274065,
     "end_time": "2021-08-23T19:05:53.602919",
     "exception": false,
     "start_time": "2021-08-23T19:05:53.328854",
     "status": "completed"
    },
    "tags": []
   },
   "outputs": [],
   "source": [
    "df = energy.sort_values(by=['time']).drop('time', axis=1)"
   ]
  },
  {
   "cell_type": "code",
   "execution_count": 15,
   "id": "fea9c1e6",
   "metadata": {
    "execution": {
     "iopub.execute_input": "2021-08-23T19:05:53.660737Z",
     "iopub.status.busy": "2021-08-23T19:05:53.659760Z",
     "iopub.status.idle": "2021-08-23T19:05:53.675747Z",
     "shell.execute_reply": "2021-08-23T19:05:53.676211Z",
     "shell.execute_reply.started": "2021-08-23T18:37:43.159096Z"
    },
    "papermill": {
     "duration": 0.046603,
     "end_time": "2021-08-23T19:05:53.676367",
     "exception": false,
     "start_time": "2021-08-23T19:05:53.629764",
     "status": "completed"
    },
    "tags": []
   },
   "outputs": [
    {
     "data": {
      "text/plain": [
       "401"
      ]
     },
     "execution_count": 15,
     "metadata": {},
     "output_type": "execute_result"
    }
   ],
   "source": [
    "df.isna().sum().sum()"
   ]
  },
  {
   "cell_type": "code",
   "execution_count": 16,
   "id": "a259c778",
   "metadata": {
    "execution": {
     "iopub.execute_input": "2021-08-23T19:05:53.734496Z",
     "iopub.status.busy": "2021-08-23T19:05:53.733601Z",
     "iopub.status.idle": "2021-08-23T19:05:53.783666Z",
     "shell.execute_reply": "2021-08-23T19:05:53.784130Z",
     "shell.execute_reply.started": "2021-08-23T18:37:43.176997Z"
    },
    "papermill": {
     "duration": 0.080974,
     "end_time": "2021-08-23T19:05:53.784307",
     "exception": false,
     "start_time": "2021-08-23T19:05:53.703333",
     "status": "completed"
    },
    "tags": []
   },
   "outputs": [],
   "source": [
    "df.dropna(inplace=True)"
   ]
  },
  {
   "cell_type": "code",
   "execution_count": 17,
   "id": "1d870ffa",
   "metadata": {
    "execution": {
     "iopub.execute_input": "2021-08-23T19:05:53.842985Z",
     "iopub.status.busy": "2021-08-23T19:05:53.841987Z",
     "iopub.status.idle": "2021-08-23T19:05:53.846698Z",
     "shell.execute_reply": "2021-08-23T19:05:53.846183Z",
     "shell.execute_reply.started": "2021-08-23T18:37:43.214821Z"
    },
    "papermill": {
     "duration": 0.035401,
     "end_time": "2021-08-23T19:05:53.846850",
     "exception": false,
     "start_time": "2021-08-23T19:05:53.811449",
     "status": "completed"
    },
    "tags": []
   },
   "outputs": [],
   "source": [
    "train_len = int(len(df.index)*.75)"
   ]
  },
  {
   "cell_type": "code",
   "execution_count": 18,
   "id": "a1ad5d78",
   "metadata": {
    "execution": {
     "iopub.execute_input": "2021-08-23T19:05:53.907523Z",
     "iopub.status.busy": "2021-08-23T19:05:53.906877Z",
     "iopub.status.idle": "2021-08-23T19:05:53.908754Z",
     "shell.execute_reply": "2021-08-23T19:05:53.909180Z",
     "shell.execute_reply.started": "2021-08-23T18:37:43.221152Z"
    },
    "papermill": {
     "duration": 0.035106,
     "end_time": "2021-08-23T19:05:53.909341",
     "exception": false,
     "start_time": "2021-08-23T19:05:53.874235",
     "status": "completed"
    },
    "tags": []
   },
   "outputs": [],
   "source": [
    "train = df[0:train_len]\n",
    "test = df[train_len:len(df.index)]"
   ]
  },
  {
   "cell_type": "markdown",
   "id": "b4d7344c",
   "metadata": {
    "papermill": {
     "duration": 0.028194,
     "end_time": "2021-08-23T19:05:53.966181",
     "exception": false,
     "start_time": "2021-08-23T19:05:53.937987",
     "status": "completed"
    },
    "tags": []
   },
   "source": [
    "We didn't split randomly because we need our test case to be realistic. As we will try to guess future energy consumption with the data of past, we should split the test dataset from the ned of the data we have to make it realistic."
   ]
  },
  {
   "cell_type": "code",
   "execution_count": 19,
   "id": "866c0d25",
   "metadata": {
    "execution": {
     "iopub.execute_input": "2021-08-23T19:05:54.025372Z",
     "iopub.status.busy": "2021-08-23T19:05:54.024725Z",
     "iopub.status.idle": "2021-08-23T19:05:54.035934Z",
     "shell.execute_reply": "2021-08-23T19:05:54.036413Z",
     "shell.execute_reply.started": "2021-08-23T18:37:43.234477Z"
    },
    "papermill": {
     "duration": 0.042874,
     "end_time": "2021-08-23T19:05:54.036614",
     "exception": false,
     "start_time": "2021-08-23T19:05:53.993740",
     "status": "completed"
    },
    "tags": []
   },
   "outputs": [],
   "source": [
    "y_train = train['total load actual']\n",
    "X_train = train.drop(['total load actual', 'price actual'], axis=1)"
   ]
  },
  {
   "cell_type": "code",
   "execution_count": 20,
   "id": "72e3391a",
   "metadata": {
    "execution": {
     "iopub.execute_input": "2021-08-23T19:05:54.094633Z",
     "iopub.status.busy": "2021-08-23T19:05:54.094018Z",
     "iopub.status.idle": "2021-08-23T19:05:54.100972Z",
     "shell.execute_reply": "2021-08-23T19:05:54.101421Z",
     "shell.execute_reply.started": "2021-08-23T18:37:43.253303Z"
    },
    "papermill": {
     "duration": 0.037554,
     "end_time": "2021-08-23T19:05:54.101610",
     "exception": false,
     "start_time": "2021-08-23T19:05:54.064056",
     "status": "completed"
    },
    "tags": []
   },
   "outputs": [],
   "source": [
    "y_test = test['total load actual']\n",
    "X_test = test.drop(['total load actual', 'price actual'], axis=1)"
   ]
  },
  {
   "cell_type": "markdown",
   "id": "23948218",
   "metadata": {
    "papermill": {
     "duration": 0.02876,
     "end_time": "2021-08-23T19:05:54.158876",
     "exception": false,
     "start_time": "2021-08-23T19:05:54.130116",
     "status": "completed"
    },
    "tags": []
   },
   "source": [
    "We will try to produce a model that can predict the total load. However we also dropped the price actual columns because it is also unknown for future. So keeping it in X would be cheating. On another analysis we may also try to predict the actual price."
   ]
  },
  {
   "cell_type": "code",
   "execution_count": 21,
   "id": "87dbb043",
   "metadata": {
    "execution": {
     "iopub.execute_input": "2021-08-23T19:05:54.217815Z",
     "iopub.status.busy": "2021-08-23T19:05:54.217174Z",
     "iopub.status.idle": "2021-08-23T19:05:55.301694Z",
     "shell.execute_reply": "2021-08-23T19:05:55.301053Z",
     "shell.execute_reply.started": "2021-08-23T18:37:43.270419Z"
    },
    "papermill": {
     "duration": 1.115111,
     "end_time": "2021-08-23T19:05:55.301845",
     "exception": false,
     "start_time": "2021-08-23T19:05:54.186734",
     "status": "completed"
    },
    "tags": []
   },
   "outputs": [],
   "source": [
    "from sklearn.ensemble import RandomForestRegressor"
   ]
  },
  {
   "cell_type": "code",
   "execution_count": 22,
   "id": "22906907",
   "metadata": {
    "execution": {
     "iopub.execute_input": "2021-08-23T19:05:55.366289Z",
     "iopub.status.busy": "2021-08-23T19:05:55.364972Z",
     "iopub.status.idle": "2021-08-23T19:08:21.246671Z",
     "shell.execute_reply": "2021-08-23T19:08:21.247209Z",
     "shell.execute_reply.started": "2021-08-23T18:37:43.282363Z"
    },
    "papermill": {
     "duration": 145.917614,
     "end_time": "2021-08-23T19:08:21.247387",
     "exception": false,
     "start_time": "2021-08-23T19:05:55.329773",
     "status": "completed"
    },
    "tags": []
   },
   "outputs": [
    {
     "data": {
      "text/plain": [
       "RandomForestRegressor(random_state=2)"
      ]
     },
     "execution_count": 22,
     "metadata": {},
     "output_type": "execute_result"
    }
   ],
   "source": [
    "rfr = RandomForestRegressor(n_estimators=100, bootstrap=True, random_state=2)\n",
    "rfr.fit(X_train,y_train)"
   ]
  },
  {
   "cell_type": "code",
   "execution_count": 23,
   "id": "9c608be5",
   "metadata": {
    "execution": {
     "iopub.execute_input": "2021-08-23T19:08:21.310388Z",
     "iopub.status.busy": "2021-08-23T19:08:21.309719Z",
     "iopub.status.idle": "2021-08-23T19:08:21.638196Z",
     "shell.execute_reply": "2021-08-23T19:08:21.637660Z",
     "shell.execute_reply.started": "2021-08-23T18:40:09.630549Z"
    },
    "papermill": {
     "duration": 0.363495,
     "end_time": "2021-08-23T19:08:21.638338",
     "exception": false,
     "start_time": "2021-08-23T19:08:21.274843",
     "status": "completed"
    },
    "tags": []
   },
   "outputs": [],
   "source": [
    "pred = rfr.predict(X_test)"
   ]
  },
  {
   "cell_type": "code",
   "execution_count": 24,
   "id": "a75979b5",
   "metadata": {
    "execution": {
     "iopub.execute_input": "2021-08-23T19:08:21.697292Z",
     "iopub.status.busy": "2021-08-23T19:08:21.696678Z",
     "iopub.status.idle": "2021-08-23T19:08:21.698483Z",
     "shell.execute_reply": "2021-08-23T19:08:21.698937Z",
     "shell.execute_reply.started": "2021-08-23T18:40:10.032709Z"
    },
    "papermill": {
     "duration": 0.033389,
     "end_time": "2021-08-23T19:08:21.699103",
     "exception": false,
     "start_time": "2021-08-23T19:08:21.665714",
     "status": "completed"
    },
    "tags": []
   },
   "outputs": [],
   "source": [
    "from sklearn.metrics import mean_squared_error"
   ]
  },
  {
   "cell_type": "code",
   "execution_count": 25,
   "id": "4b2ffc2a",
   "metadata": {
    "execution": {
     "iopub.execute_input": "2021-08-23T19:08:21.756406Z",
     "iopub.status.busy": "2021-08-23T19:08:21.755809Z",
     "iopub.status.idle": "2021-08-23T19:08:21.761577Z",
     "shell.execute_reply": "2021-08-23T19:08:21.762058Z",
     "shell.execute_reply.started": "2021-08-23T18:40:10.039037Z"
    },
    "papermill": {
     "duration": 0.035942,
     "end_time": "2021-08-23T19:08:21.762216",
     "exception": false,
     "start_time": "2021-08-23T19:08:21.726274",
     "status": "completed"
    },
    "tags": []
   },
   "outputs": [
    {
     "name": "stdout",
     "output_type": "stream",
     "text": [
      "401.05576162474694\n"
     ]
    }
   ],
   "source": [
    "print(mean_squared_error(y_test, pred)**.5)"
   ]
  },
  {
   "cell_type": "code",
   "execution_count": 26,
   "id": "ef44bd61",
   "metadata": {
    "execution": {
     "iopub.execute_input": "2021-08-23T19:08:21.823008Z",
     "iopub.status.busy": "2021-08-23T19:08:21.822359Z",
     "iopub.status.idle": "2021-08-23T19:08:21.830212Z",
     "shell.execute_reply": "2021-08-23T19:08:21.830671Z",
     "shell.execute_reply.started": "2021-08-23T18:52:45.673303Z"
    },
    "papermill": {
     "duration": 0.040929,
     "end_time": "2021-08-23T19:08:21.830837",
     "exception": false,
     "start_time": "2021-08-23T19:08:21.789908",
     "status": "completed"
    },
    "tags": []
   },
   "outputs": [
    {
     "name": "stdout",
     "output_type": "stream",
     "text": [
      "451.32953059636907\n"
     ]
    }
   ],
   "source": [
    "print(mean_squared_error(df['total load actual'], df['total load forecast'])**.5)"
   ]
  },
  {
   "cell_type": "markdown",
   "id": "95103c21",
   "metadata": {
    "papermill": {
     "duration": 0.027643,
     "end_time": "2021-08-23T19:08:21.886417",
     "exception": false,
     "start_time": "2021-08-23T19:08:21.858774",
     "status": "completed"
    },
    "tags": []
   },
   "source": [
    "Root mean square error of the model we produced is about 400. The prediction which is already in the dataset has a root mean square error of 450. So we did an improvement to the existing model. Actually we also used that model inside our model because prediction of that model is in our X ('total load forecast' named column). So we feed that prediction to our model, too. But our model improves that model as rmse is about 88% of it.  \n",
    "  \n",
    "  Our model has lower error relative to the predictions in the dataset however we should also examine if the rmse of our model is good enough."
   ]
  },
  {
   "cell_type": "code",
   "execution_count": 27,
   "id": "30b99792",
   "metadata": {
    "execution": {
     "iopub.execute_input": "2021-08-23T19:08:21.947307Z",
     "iopub.status.busy": "2021-08-23T19:08:21.946559Z",
     "iopub.status.idle": "2021-08-23T19:08:22.186057Z",
     "shell.execute_reply": "2021-08-23T19:08:22.186538Z",
     "shell.execute_reply.started": "2021-08-23T18:40:10.053166Z"
    },
    "papermill": {
     "duration": 0.272136,
     "end_time": "2021-08-23T19:08:22.186718",
     "exception": false,
     "start_time": "2021-08-23T19:08:21.914582",
     "status": "completed"
    },
    "tags": []
   },
   "outputs": [
    {
     "data": {
      "text/plain": [
       "<AxesSubplot:ylabel='Frequency'>"
      ]
     },
     "execution_count": 27,
     "metadata": {},
     "output_type": "execute_result"
    },
    {
     "data": {
      "image/png": "[encoded data removed]",
      "text/plain": [
       "<Figure size 432x288 with 1 Axes>"
      ]
     },
     "metadata": {
      "needs_background": "light"
     },
     "output_type": "display_data"
    }
   ],
   "source": [
    "df['total load actual'].plot.hist()"
   ]
  },
  {
   "cell_type": "markdown",
   "id": "4513b5a1",
   "metadata": {
    "papermill": {
     "duration": 0.028836,
     "end_time": "2021-08-23T19:08:22.245368",
     "exception": false,
     "start_time": "2021-08-23T19:08:22.216532",
     "status": "completed"
    },
    "tags": []
   },
   "source": [
    "As we can see from the histogram mean is about 30_000 and range is about 20_000 so 400 rmse is a great."
   ]
  }
 ],
 "metadata": {
  "kernelspec": {
   "display_name": "Python 3",
   "language": "python",
   "name": "python3"
  },
  "language_info": {
   "codemirror_mode": {
    "name": "ipython",
    "version": 3
   },
   "file_extension": ".py",
   "mimetype": "text/x-python",
   "name": "python",
   "nbconvert_exporter": "python",
   "pygments_lexer": "ipython3",
   "version": "3.7.10"
  },
  "papermill": {
   "default_parameters": {},
   "duration": 190.787686,
   "end_time": "2021-08-23T19:08:22.984745",
   "environment_variables": {},
   "exception": null,
   "input_path": "__notebook__.ipynb",
   "output_path": "__notebook__.ipynb",
   "parameters": {},
   "start_time": "2021-08-23T19:05:12.197059",
   "version": "2.3.3"
  }
 },
 "nbformat": 4,
 "nbformat_minor": 5
}
